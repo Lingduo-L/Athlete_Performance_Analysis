{
 "cells": [
  {
   "cell_type": "code",
   "execution_count": 63,
   "id": "06ac8ea2",
   "metadata": {},
   "outputs": [],
   "source": [
    "with open('./Soccer_affiliation','r') as fp:\n",
    "    content = fp.readlines()\n",
    "new = [content[i].split('(')[0]+f'({i},'+content[i].split('(')[1] for i in range(len(content))]\n",
    "with open('./Soccer_affiliation_new','w') as fp:\n",
    "    for i in new:\n",
    "        i = i.replace('Soccer_affiliation','Athlete_app01_Soccer_affiliation')\n",
    "        lst = i.split('(')[1].split(')')[0].split(',')\n",
    "        i_new = i.split('(')[0]+'('+lst[0]+','+','.join(lst[4:])+','+','.join(lst[1:4])+');\\n'\n",
    "        fp.write(i_new)"
   ]
  },
  {
   "cell_type": "code",
   "execution_count": 64,
   "id": "e3358568",
   "metadata": {},
   "outputs": [],
   "source": [
    "with open('./Soccer_athlete','r') as fp:\n",
    "    content = fp.readlines()\n",
    "new = [content[i].split('(')[0]+f'({i},'+content[i].split('(')[1] for i in range(len(content))]\n",
    "with open('./Soccer_athlete_new','w') as fp:\n",
    "    for i in new:\n",
    "        i = i.replace('Soccer_athlete','Athlete_app01_Soccer_athlete')\n",
    "        fp.write(i)"
   ]
  },
  {
   "cell_type": "code",
   "execution_count": 65,
   "id": "f766a034",
   "metadata": {},
   "outputs": [],
   "source": [
    "with open('./Soccer_contract','r') as fp:\n",
    "    content = fp.readlines()\n",
    "new = [content[i].split('(')[0]+f'({i},'+content[i].split('(')[1] for i in range(len(content))]\n",
    "with open('./Soccer_contract_new','w') as fp:\n",
    "    for i in new:\n",
    "        i = i.replace('Soccer_contract','Athlete_app01_Soccer_contract')\n",
    "        fp.write(i)"
   ]
  },
  {
   "cell_type": "code",
   "execution_count": 66,
   "id": "2efbf35c",
   "metadata": {},
   "outputs": [],
   "source": [
    "with open('./Soccer_club','r') as fp:\n",
    "    content = fp.readlines()\n",
    "new = [content[i].split('(')[0]+f'({i},'+content[i].split('(')[1] for i in range(len(content))]\n",
    "with open('./Soccer_club_new','w') as fp:\n",
    "    for i in new:\n",
    "        i = i.replace('Soccer_club','Athlete_app01_Soccer_club')\n",
    "        fp.write(i)"
   ]
  },
  {
   "cell_type": "code",
   "execution_count": 67,
   "id": "4ba86244",
   "metadata": {},
   "outputs": [
    {
     "data": {
      "text/plain": [
       "47"
      ]
     },
     "execution_count": 67,
     "metadata": {},
     "output_type": "execute_result"
    }
   ],
   "source": []
  },
  {
   "cell_type": "code",
   "execution_count": 1,
   "id": "57e72bff",
   "metadata": {},
   "outputs": [],
   "source": [
    "with open('./Tennis_athlete','r') as fp:\n",
    "    content = fp.readlines()\n",
    "new = [content[i].split('(')[0]+f'({i},'+content[i].split('(')[1] for i in range(len(content))]\n",
    "with open('./Tennis_athlete_new','w') as fp:\n",
    "    for i in new:\n",
    "        i = i.replace('tennis_athlete','Athlete_app01_Tennis_athlete')\n",
    "        fp.write(i)"
   ]
  },
  {
   "cell_type": "code",
   "execution_count": 3,
   "id": "818e464d",
   "metadata": {},
   "outputs": [],
   "source": [
    "with open('./tennis_hard_raw','r') as fp:\n",
    "    content = fp.readlines()\n",
    "new = [content[i].split('(')[0]+f'({i},'+content[i].split('(')[1] for i in range(len(content))]\n",
    "with open('./Tennis_Hard_new','w') as fp:\n",
    "    for i in new:\n",
    "        i = i.replace('tennis_hard_raw','Athlete_app01_Tennis_hard')\n",
    "        fp.write(i)"
   ]
  },
  {
   "cell_type": "code",
   "execution_count": 21,
   "id": "d8e4622f",
   "metadata": {},
   "outputs": [],
   "source": [
    "with open('./tennis_clay_raw','r') as fp:\n",
    "    content = fp.readlines()\n",
    "#print(content[0].split('(')[0]+f'({0},'+content[0].split('(')[1])\n",
    "content = content[:783]\n",
    "new = [content[i].split('(')[0]+f'({i},'+content[i].split('(')[1] for i in range(len(content))]\n",
    "with open('./Tennis_Clay_new','w') as fp:\n",
    "    for i in new:\n",
    "        i = i.replace('tennis_clay_raw','Athlete_app01_Tennis_clay')\n",
    "        fp.write(i)"
   ]
  },
  {
   "cell_type": "code",
   "execution_count": 29,
   "id": "27dee1cf",
   "metadata": {},
   "outputs": [],
   "source": [
    "with open('./tennis_grass_raw','r') as fp:\n",
    "    content = fp.readlines()\n",
    "#print(content[0].split('(')[0]+f'({0},'+content[0].split('(')[1])\n",
    "content = content[:783]\n",
    "new = [content[i].split('(')[0]+f'({i},'+content[i].split('(')[1] for i in range(len(content))]\n",
    "with open('./Tennis_Grass_new','w') as fp:\n",
    "    for i in new:\n",
    "        i = i.replace('tennis_grass_raw','Athlete_app01_Tennis_grass')\n",
    "        fp.write(i)"
   ]
  },
  {
   "cell_type": "code",
   "execution_count": null,
   "id": "e5c42ef1",
   "metadata": {},
   "outputs": [],
   "source": []
  }
 ],
 "metadata": {
  "kernelspec": {
   "display_name": "Python 3 (ipykernel)",
   "language": "python",
   "name": "python3"
  },
  "language_info": {
   "codemirror_mode": {
    "name": "ipython",
    "version": 3
   },
   "file_extension": ".py",
   "mimetype": "text/x-python",
   "name": "python",
   "nbconvert_exporter": "python",
   "pygments_lexer": "ipython3",
   "version": "3.9.7"
  }
 },
 "nbformat": 4,
 "nbformat_minor": 5
}
